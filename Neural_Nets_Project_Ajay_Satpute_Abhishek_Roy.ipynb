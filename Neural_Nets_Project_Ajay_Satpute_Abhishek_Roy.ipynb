{
 "cells": [
  {
   "cell_type": "markdown",
   "metadata": {},
   "source": [
    "# Gesture Recognition\n",
    "In this group project, you are going to build a 3D Conv model that will be able to predict the 5 gestures correctly. Please import the following libraries to get started."
   ]
  },
  {
   "cell_type": "code",
   "execution_count": 1,
   "metadata": {},
   "outputs": [],
   "source": [
    "import numpy as np\n",
    "import os\n",
    "from scipy.misc import imread, imresize\n",
    "import datetime\n",
    "import os"
   ]
  },
  {
   "cell_type": "markdown",
   "metadata": {},
   "source": [
    "We set the random seed so that the results don't vary drastically."
   ]
  },
  {
   "cell_type": "code",
   "execution_count": 2,
   "metadata": {},
   "outputs": [
    {
     "name": "stderr",
     "output_type": "stream",
     "text": [
      "Using TensorFlow backend.\n"
     ]
    }
   ],
   "source": [
    "np.random.seed(30)\n",
    "import random as rn\n",
    "rn.seed(30)\n",
    "from keras import backend as K\n",
    "import tensorflow as tf\n",
    "tf.set_random_seed(30)"
   ]
  },
  {
   "cell_type": "markdown",
   "metadata": {},
   "source": [
    "In this block, you read the folder names for training and validation. You also set the `batch_size` here. Note that you set the batch size in such a way that you are able to use the GPU in full capacity. You keep increasing the batch size until the machine throws an error."
   ]
  },
  {
   "cell_type": "code",
   "execution_count": 4,
   "metadata": {},
   "outputs": [],
   "source": [
    "train_doc = np.random.permutation(open('/notebooks/storage/Final_data/Collated_training/train.csv').readlines())\n",
    "val_doc = np.random.permutation(open('/notebooks/storage/Final_data/Collated_training/val.csv').readlines())\n",
    "batch_size = 30 #experiment with the batch size"
   ]
  },
  {
   "cell_type": "markdown",
   "metadata": {},
   "source": [
    "## Generator\n",
    "This is one of the most important part of the code. The overall structure of the generator has been given. In the generator, you are going to preprocess the images as you have images of 2 different dimensions as well as create a batch of video frames. You have to experiment with `img_idx`, `y`,`z` and normalization such that you get high accuracy."
   ]
  },
  {
   "cell_type": "code",
   "execution_count": 5,
   "metadata": {},
   "outputs": [],
   "source": [
    "def generator(source_path, folder_list, batch_size):\n",
    "    print( 'Source path = ', source_path, '; batch size =', batch_size)\n",
    "    img_idx = [i for i in range(1,30,2)] #create a list of image numbers you want to use for a particular video\n",
    "    x = len(img_idx)\n",
    "    y = 80\n",
    "    z = 80\n",
    "    \n",
    "    while True:\n",
    "        t = np.random.permutation(folder_list)\n",
    "        num_batches = int(len(t)/batch_size) # calculate the number of batches\n",
    "        for batch in range(num_batches): # we iterate over the number of batches\n",
    "            batch_data = np.zeros((batch_size,x,y,z,3)) # x is the number of images you use for each video, (y,z) is the final size of the input images and 3 is the number of channels RGB\n",
    "            batch_labels = np.zeros((batch_size,5)) # batch_labels is the one hot representation of the output\n",
    "            for folder in range(batch_size): # iterate over the batch_size\n",
    "                imgs = os.listdir(source_path+'/'+ t[folder + (batch*batch_size)].split(';')[0]) # read all the images in the folder\n",
    "                for idx,item in enumerate(img_idx): #  Iterate iver the frames/images of a folder to read them in\n",
    "                    image = imread(source_path+'/'+ t[folder + (batch*batch_size)].strip().split(';')[0]+'/'+imgs[item]).astype(np.float32)\n",
    "                    \n",
    "                    #crop the images and resize them. Note that the images are of 2 different shape \n",
    "                    #and the conv3D will throw error if the inputs in a batch have different shapes\n",
    "                    if image.shape[0] == 360 and image.shape[1] == 360:\n",
    "                        image = imresize(image[:,20:340,:], (80,80)).astype(np.float32)\n",
    "                    elif image.shape[1] == 160:\n",
    "                        image = imresize(image[:,20:140,:],(80,80)).astype(np.float32)\n",
    "                    \n",
    "                    \n",
    "                    batch_data[folder,idx,:,:,0] = (image[:,:,0] - np.percentile(image[:,:,0],5))/ (np.percentile(image[:,:,0],95) - np.percentile(image[:,:,0],5)) #normalise and feed in the image\n",
    "                    batch_data[folder,idx,:,:,1] = (image[:,:,1] - np.percentile(image[:,:,1],5))/ (np.percentile(image[:,:,1],95) - np.percentile(image[:,:,1],5)) #normalise and feed in the image\n",
    "                    batch_data[folder,idx,:,:,2] = (image[:,:,2] - np.percentile(image[:,:,2],5))/ (np.percentile(image[:,:,2],95) - np.percentile(image[:,:,2],5)) #normalise and feed in the image\n",
    "                    \n",
    "                batch_labels[folder, int(t[folder + (batch*batch_size)].strip().split(';')[2])] = 1\n",
    "            yield batch_data, batch_labels #you yield the batch_data and the batch_labels, remember what does yield do\n",
    "\n",
    "        \n",
    "        # write the code for the remaining data points which are left after full batches\n",
    "        \n",
    "        if (len(t)%batch_size) != 0:\n",
    "            batch_data = np.zeros((len(t)%batch_size,x,y,z,3)) # x is the number of images you use for each video, (y,z) is the final size of the input images and 3 is the number of channels RGB\n",
    "            batch_labels = np.zeros((len(t)%batch_size,5)) # batch_labels is the one hot representation of the output\n",
    "            for folder in range(len(t)%batch_size): # iterate over the batch_size\n",
    "                imgs = os.listdir(source_path+'/'+ t[folder + (num_batches*batch_size)].split(';')[0]) # read all the images in the folder\n",
    "                for idx,item in enumerate(img_idx): #  Iterate iver the frames/images of a folder to read them in\n",
    "                    image = imread(source_path+'/'+ t[folder + (num_batches*batch_size)].strip().split(';')[0]+'/'+imgs[item]).astype(np.float32)\n",
    "                    \n",
    "                    #crop the images and resize them. Note that the images are of 2 different shape \n",
    "                    #and the conv3D will throw error if the inputs in a batch have different shapes\n",
    "                    \n",
    "                    if image.shape[0] == 360 and image.shape[1] == 360:\n",
    "                        image = imresize(image[:,20:340,:], (80,80)).astype(np.float32)\n",
    "                    elif image.shape[1] == 160:\n",
    "                        image = imresize(image[:,20:140,:],(80,80)).astype(np.float32)\n",
    "                    \n",
    "                    batch_data[folder,idx,:,:,0] = (image[:,:,0] - np.percentile(image[:,:,0],5))/ (np.percentile(image[:,:,0],95) - np.percentile(image[:,:,0],5)) #normalise and feed in the image\n",
    "                    batch_data[folder,idx,:,:,1] = (image[:,:,1] - np.percentile(image[:,:,1],5))/ (np.percentile(image[:,:,1],95) - np.percentile(image[:,:,1],5)) #normalise and feed in the image\n",
    "                    batch_data[folder,idx,:,:,2] = (image[:,:,2] - np.percentile(image[:,:,2],5))/ (np.percentile(image[:,:,2],95) - np.percentile(image[:,:,2],5)) #normalise and feed in the image\n",
    "                batch_labels[folder, int(t[folder + (num_batches*batch_size)].strip().split(';')[2])] = 1\n",
    "            yield batch_data, batch_labels #you yield the batch_data and the batch_labels, remember what does yield do\n",
    "\n",
    "        "
   ]
  },
  {
   "cell_type": "markdown",
   "metadata": {},
   "source": [
    "Note here that a video is represented above in the generator as (number of images, height, width, number of channels). Take this into consideration while creating the model architecture."
   ]
  },
  {
   "cell_type": "code",
   "execution_count": 6,
   "metadata": {},
   "outputs": [
    {
     "name": "stdout",
     "output_type": "stream",
     "text": [
      "# training sequences = 663\n",
      "# validation sequences = 100\n",
      "# epochs = 30\n"
     ]
    }
   ],
   "source": [
    "curr_dt_time = datetime.datetime.now()\n",
    "train_path = '/notebooks/storage/Final_data/Collated_training/train'\n",
    "val_path = '/notebooks/storage/Final_data/Collated_training/val'\n",
    "num_train_sequences = len(train_doc)\n",
    "print('# training sequences =', num_train_sequences)\n",
    "num_val_sequences = len(val_doc)\n",
    "print('# validation sequences =', num_val_sequences)\n",
    "num_epochs = 30 # choose the number of epochs\n",
    "print ('# epochs =', num_epochs)"
   ]
  },
  {
   "cell_type": "markdown",
   "metadata": {},
   "source": [
    "## Model\n",
    "Here you make the model using different functionalities that Keras provides. Remember to use `Conv3D` and `MaxPooling3D` and not `Conv2D` and `Maxpooling2D` for a 3D convolution model. You would want to use `TimeDistributed` while building a Conv2D + RNN model. Also remember that the last layer is the softmax. Design the network in such a way that the model is able to give good accuracy on the least number of parameters so that it can fit in the memory of the webcam."
   ]
  },
  {
   "cell_type": "code",
   "execution_count": 7,
   "metadata": {},
   "outputs": [],
   "source": [
    "from keras.models import Sequential, Model\n",
    "from keras.layers import Dense, GRU, Flatten, TimeDistributed, Flatten, BatchNormalization, Activation, Dropout\n",
    "from keras.layers.convolutional import Conv3D, MaxPooling3D\n",
    "from keras.callbacks import ModelCheckpoint, ReduceLROnPlateau\n",
    "from keras import optimizers\n",
    "\n",
    "#write your model here\n",
    "model = Sequential()\n",
    "model.add(Conv3D(32, (3,3,3), strides=(1,1,1), padding='same', input_shape=(15,80,80,3)))\n",
    "model.add(BatchNormalization())\n",
    "model.add(Activation('elu'))\n",
    "model.add(MaxPooling3D(pool_size=(2,2,1), strides=(2,2,1),padding='same'))\n",
    "\n",
    "model.add(Conv3D(64, (3,3,3), strides=(1,1,1), padding='same'))\n",
    "model.add(BatchNormalization())\n",
    "model.add(Activation('elu'))\n",
    "model.add(MaxPooling3D(pool_size=(2,2,2), strides=(2,2,2),padding='same'))\n",
    "\n",
    "model.add(Conv3D(64, (3,3,3), strides=(1,1,1), padding='same'))\n",
    "model.add(BatchNormalization())\n",
    "model.add(Activation('elu'))\n",
    "model.add(MaxPooling3D(pool_size=(2,2,2), strides=(2,2,2),padding='same'))\n",
    "\n",
    "model.add(Conv3D(128, (3,3,3), strides=(1,1,1), padding='same'))\n",
    "model.add(BatchNormalization())\n",
    "model.add(Activation('elu'))\n",
    "model.add(MaxPooling3D(pool_size=(2,2,2), strides=(2,2,2),padding='same'))\n",
    "\n",
    "model.add(Conv3D(256, (3,3,3), strides=(1,1,1), padding='same'))\n",
    "model.add(BatchNormalization())\n",
    "model.add(Activation('elu'))\n",
    "model.add(MaxPooling3D(pool_size=(2,2,2), strides=(2,2,2),padding='same'))\n",
    "\n",
    "model.add(Conv3D(256, (3,3,3), strides=(1,1,1), padding='same'))\n",
    "model.add(BatchNormalization())\n",
    "model.add(Activation('elu'))\n",
    "model.add(MaxPooling3D(pool_size=(2,2,2), strides=(2,2,2),padding='same'))\n",
    "\n",
    "model.add(Flatten())\n",
    "model.add(Dropout(0.5))\n",
    "model.add(Dense(512, activation='elu'))\n",
    "model.add(Dropout(0.5))\n",
    "model.add(Dense(5, activation='softmax'))"
   ]
  },
  {
   "cell_type": "markdown",
   "metadata": {},
   "source": [
    "Now that you have written the model, the next step is to `compile` the model. When you print the `summary` of the model, you'll see the total number of parameters you have to train."
   ]
  },
  {
   "cell_type": "code",
   "execution_count": 8,
   "metadata": {
    "scrolled": false
   },
   "outputs": [
    {
     "name": "stdout",
     "output_type": "stream",
     "text": [
      "_________________________________________________________________\n",
      "Layer (type)                 Output Shape              Param #   \n",
      "=================================================================\n",
      "conv3d_1 (Conv3D)            (None, 15, 80, 80, 32)    2624      \n",
      "_________________________________________________________________\n",
      "batch_normalization_1 (Batch (None, 15, 80, 80, 32)    128       \n",
      "_________________________________________________________________\n",
      "activation_1 (Activation)    (None, 15, 80, 80, 32)    0         \n",
      "_________________________________________________________________\n",
      "max_pooling3d_1 (MaxPooling3 (None, 8, 40, 80, 32)     0         \n",
      "_________________________________________________________________\n",
      "conv3d_2 (Conv3D)            (None, 8, 40, 80, 64)     55360     \n",
      "_________________________________________________________________\n",
      "batch_normalization_2 (Batch (None, 8, 40, 80, 64)     256       \n",
      "_________________________________________________________________\n",
      "activation_2 (Activation)    (None, 8, 40, 80, 64)     0         \n",
      "_________________________________________________________________\n",
      "max_pooling3d_2 (MaxPooling3 (None, 4, 20, 40, 64)     0         \n",
      "_________________________________________________________________\n",
      "conv3d_3 (Conv3D)            (None, 4, 20, 40, 64)     110656    \n",
      "_________________________________________________________________\n",
      "batch_normalization_3 (Batch (None, 4, 20, 40, 64)     256       \n",
      "_________________________________________________________________\n",
      "activation_3 (Activation)    (None, 4, 20, 40, 64)     0         \n",
      "_________________________________________________________________\n",
      "max_pooling3d_3 (MaxPooling3 (None, 2, 10, 20, 64)     0         \n",
      "_________________________________________________________________\n",
      "conv3d_4 (Conv3D)            (None, 2, 10, 20, 128)    221312    \n",
      "_________________________________________________________________\n",
      "batch_normalization_4 (Batch (None, 2, 10, 20, 128)    512       \n",
      "_________________________________________________________________\n",
      "activation_4 (Activation)    (None, 2, 10, 20, 128)    0         \n",
      "_________________________________________________________________\n",
      "max_pooling3d_4 (MaxPooling3 (None, 1, 5, 10, 128)     0         \n",
      "_________________________________________________________________\n",
      "conv3d_5 (Conv3D)            (None, 1, 5, 10, 256)     884992    \n",
      "_________________________________________________________________\n",
      "batch_normalization_5 (Batch (None, 1, 5, 10, 256)     1024      \n",
      "_________________________________________________________________\n",
      "activation_5 (Activation)    (None, 1, 5, 10, 256)     0         \n",
      "_________________________________________________________________\n",
      "max_pooling3d_5 (MaxPooling3 (None, 1, 3, 5, 256)      0         \n",
      "_________________________________________________________________\n",
      "conv3d_6 (Conv3D)            (None, 1, 3, 5, 256)      1769728   \n",
      "_________________________________________________________________\n",
      "batch_normalization_6 (Batch (None, 1, 3, 5, 256)      1024      \n",
      "_________________________________________________________________\n",
      "activation_6 (Activation)    (None, 1, 3, 5, 256)      0         \n",
      "_________________________________________________________________\n",
      "max_pooling3d_6 (MaxPooling3 (None, 1, 2, 3, 256)      0         \n",
      "_________________________________________________________________\n",
      "flatten_1 (Flatten)          (None, 1536)              0         \n",
      "_________________________________________________________________\n",
      "dropout_1 (Dropout)          (None, 1536)              0         \n",
      "_________________________________________________________________\n",
      "dense_1 (Dense)              (None, 512)               786944    \n",
      "_________________________________________________________________\n",
      "dropout_2 (Dropout)          (None, 512)               0         \n",
      "_________________________________________________________________\n",
      "dense_2 (Dense)              (None, 5)                 2565      \n",
      "=================================================================\n",
      "Total params: 3,837,381\n",
      "Trainable params: 3,835,781\n",
      "Non-trainable params: 1,600\n",
      "_________________________________________________________________\n",
      "None\n"
     ]
    }
   ],
   "source": [
    "optimiser = optimizers.SGD(lr=0.001, decay=1e-6, momentum=0.7, nesterov=True) #write your optimizer\n",
    "model.compile(optimizer=optimiser, loss='categorical_crossentropy', metrics=['categorical_accuracy'])\n",
    "print (model.summary())"
   ]
  },
  {
   "cell_type": "markdown",
   "metadata": {},
   "source": [
    "Let us create the `train_generator` and the `val_generator` which will be used in `.fit_generator`."
   ]
  },
  {
   "cell_type": "code",
   "execution_count": 9,
   "metadata": {},
   "outputs": [],
   "source": [
    "train_generator = generator(train_path, train_doc, batch_size)\n",
    "val_generator = generator(val_path, val_doc, batch_size)"
   ]
  },
  {
   "cell_type": "code",
   "execution_count": 10,
   "metadata": {},
   "outputs": [
    {
     "name": "stderr",
     "output_type": "stream",
     "text": [
      "/mnt/disks/user/anaconda3/lib/python3.6/site-packages/keras/callbacks.py:999: UserWarning: `epsilon` argument is deprecated and will be removed, use `min_delta` instead.\n",
      "  warnings.warn('`epsilon` argument is deprecated and '\n"
     ]
    }
   ],
   "source": [
    "model_name = 'model_init' + '_' + str(curr_dt_time).replace(' ','').replace(':','_') + '/'\n",
    "    \n",
    "if not os.path.exists(model_name):\n",
    "    os.mkdir(model_name)\n",
    "        \n",
    "filepath = model_name + 'model-{epoch:05d}-{loss:.5f}-{categorical_accuracy:.5f}-{val_loss:.5f}-{val_categorical_accuracy:.5f}.h5'\n",
    "\n",
    "checkpoint = ModelCheckpoint(filepath, monitor='val_loss', verbose=1, save_best_only=False, save_weights_only=False, mode='auto', period=1)\n",
    "\n",
    "LR = ReduceLROnPlateau(monitor='val_loss', factor=0.5, patience=2, verbose=1, mode='min', epsilon=0.0001, cooldown=0, min_lr=0.00001) # write the REducelronplateau code here\n",
    "callbacks_list = [checkpoint, LR]"
   ]
  },
  {
   "cell_type": "markdown",
   "metadata": {},
   "source": [
    "The `steps_per_epoch` and `validation_steps` are used by `fit_generator` to decide the number of next() calls it need to make."
   ]
  },
  {
   "cell_type": "code",
   "execution_count": 11,
   "metadata": {},
   "outputs": [],
   "source": [
    "if (num_train_sequences%batch_size) == 0:\n",
    "    steps_per_epoch = int(num_train_sequences/batch_size)\n",
    "else:\n",
    "    steps_per_epoch = (num_train_sequences//batch_size) + 1\n",
    "\n",
    "if (num_val_sequences%batch_size) == 0:\n",
    "    validation_steps = int(num_val_sequences/batch_size)\n",
    "else:\n",
    "    validation_steps = (num_val_sequences//batch_size) + 1"
   ]
  },
  {
   "cell_type": "markdown",
   "metadata": {},
   "source": [
    "Let us now fit the model. This will start training the model and with the help of the checkpoints, you'll be able to save the model at the end of each epoch."
   ]
  },
  {
   "cell_type": "code",
   "execution_count": 12,
   "metadata": {
    "scrolled": false
   },
   "outputs": [
    {
     "name": "stdout",
     "output_type": "stream",
     "text": [
      "Source path = Source path =  Project_data/train ; batch size = 30\n",
      "Epoch 1/30\n",
      " Project_data/val ; batch size = 30\n"
     ]
    },
    {
     "name": "stderr",
     "output_type": "stream",
     "text": [
      "/mnt/disks/user/anaconda3/lib/python3.6/site-packages/ipykernel_launcher.py:17: DeprecationWarning: `imread` is deprecated!\n",
      "`imread` is deprecated in SciPy 1.0.0, and will be removed in 1.2.0.\n",
      "Use ``imageio.imread`` instead.\n",
      "/mnt/disks/user/anaconda3/lib/python3.6/site-packages/ipykernel_launcher.py:24: DeprecationWarning: `imresize` is deprecated!\n",
      "`imresize` is deprecated in SciPy 1.0.0, and will be removed in 1.2.0.\n",
      "Use ``skimage.transform.resize`` instead.\n",
      "/mnt/disks/user/anaconda3/lib/python3.6/site-packages/ipykernel_launcher.py:22: DeprecationWarning: `imresize` is deprecated!\n",
      "`imresize` is deprecated in SciPy 1.0.0, and will be removed in 1.2.0.\n",
      "Use ``skimage.transform.resize`` instead.\n",
      "/mnt/disks/user/anaconda3/lib/python3.6/site-packages/ipykernel_launcher.py:43: DeprecationWarning: `imread` is deprecated!\n",
      "`imread` is deprecated in SciPy 1.0.0, and will be removed in 1.2.0.\n",
      "Use ``imageio.imread`` instead.\n",
      "/mnt/disks/user/anaconda3/lib/python3.6/site-packages/ipykernel_launcher.py:51: DeprecationWarning: `imresize` is deprecated!\n",
      "`imresize` is deprecated in SciPy 1.0.0, and will be removed in 1.2.0.\n",
      "Use ``skimage.transform.resize`` instead.\n",
      "/mnt/disks/user/anaconda3/lib/python3.6/site-packages/ipykernel_launcher.py:49: DeprecationWarning: `imresize` is deprecated!\n",
      "`imresize` is deprecated in SciPy 1.0.0, and will be removed in 1.2.0.\n",
      "Use ``skimage.transform.resize`` instead.\n"
     ]
    },
    {
     "name": "stdout",
     "output_type": "stream",
     "text": [
      "23/23 [==============================] - 158s 7s/step - loss: 2.7488 - categorical_accuracy: 0.2724 - val_loss: 1.8239 - val_categorical_accuracy: 0.3100\n",
      "\n",
      "Epoch 00001: saving model to model_init_2020-11-0209_44_08.794195/model-00001-2.77897-0.26998-1.82394-0.31000.h5\n",
      "Epoch 2/30\n",
      "23/23 [==============================] - 59s 3s/step - loss: 1.9453 - categorical_accuracy: 0.4184 - val_loss: 0.9426 - val_categorical_accuracy: 0.6500\n",
      "\n",
      "Epoch 00002: saving model to model_init_2020-11-0209_44_08.794195/model-00002-1.89388-0.40875-0.94259-0.65000.h5\n",
      "Epoch 3/30\n",
      "23/23 [==============================] - 62s 3s/step - loss: 1.5572 - categorical_accuracy: 0.4904 - val_loss: 1.8724 - val_categorical_accuracy: 0.3600\n",
      "\n",
      "Epoch 00003: saving model to model_init_2020-11-0209_44_08.794195/model-00003-1.60432-0.47059-1.87236-0.36000.h5\n",
      "Epoch 4/30\n",
      "23/23 [==============================] - 61s 3s/step - loss: 1.2268 - categorical_accuracy: 0.5834 - val_loss: 2.3140 - val_categorical_accuracy: 0.3400\n",
      "\n",
      "Epoch 00004: saving model to model_init_2020-11-0209_44_08.794195/model-00004-1.25458-0.56712-2.31403-0.34000.h5\n",
      "\n",
      "Epoch 00004: ReduceLROnPlateau reducing learning rate to 0.0005000000237487257.\n",
      "Epoch 5/30\n",
      "23/23 [==============================] - 63s 3s/step - loss: 1.1203 - categorical_accuracy: 0.5903 - val_loss: 2.2586 - val_categorical_accuracy: 0.3300\n",
      "\n",
      "Epoch 00005: saving model to model_init_2020-11-0209_44_08.794195/model-00005-1.11447-0.60030-2.25857-0.33000.h5\n",
      "Epoch 6/30\n",
      "23/23 [==============================] - 69s 3s/step - loss: 0.8291 - categorical_accuracy: 0.7067 - val_loss: 0.8110 - val_categorical_accuracy: 0.6900\n",
      "\n",
      "Epoch 00006: saving model to model_init_2020-11-0209_44_08.794195/model-00006-0.85542-0.69532-0.81098-0.69000.h5\n",
      "Epoch 7/30\n",
      "23/23 [==============================] - 65s 3s/step - loss: 0.9339 - categorical_accuracy: 0.6739 - val_loss: 1.5615 - val_categorical_accuracy: 0.4800\n",
      "\n",
      "Epoch 00007: saving model to model_init_2020-11-0209_44_08.794195/model-00007-0.92031-0.67421-1.56149-0.48000.h5\n",
      "Epoch 8/30\n",
      "23/23 [==============================] - 55s 2s/step - loss: 0.9642 - categorical_accuracy: 0.6759 - val_loss: 1.1169 - val_categorical_accuracy: 0.6500\n",
      "\n",
      "Epoch 00008: saving model to model_init_2020-11-0209_44_08.794195/model-00008-0.91632-0.68929-1.11694-0.65000.h5\n",
      "\n",
      "Epoch 00008: ReduceLROnPlateau reducing learning rate to 0.0002500000118743628.\n",
      "Epoch 9/30\n",
      "23/23 [==============================] - 55s 2s/step - loss: 0.7136 - categorical_accuracy: 0.7503 - val_loss: 0.9352 - val_categorical_accuracy: 0.6700\n",
      "\n",
      "Epoch 00009: saving model to model_init_2020-11-0209_44_08.794195/model-00009-0.73469-0.74057-0.93522-0.67000.h5\n",
      "Epoch 10/30\n",
      "23/23 [==============================] - 55s 2s/step - loss: 0.7225 - categorical_accuracy: 0.7363 - val_loss: 0.6509 - val_categorical_accuracy: 0.7300\n",
      "\n",
      "Epoch 00010: saving model to model_init_2020-11-0209_44_08.794195/model-00010-0.68889-0.73906-0.65094-0.73000.h5\n",
      "Epoch 11/30\n",
      "23/23 [==============================] - 56s 2s/step - loss: 0.7181 - categorical_accuracy: 0.7334 - val_loss: 0.8720 - val_categorical_accuracy: 0.7200\n",
      "\n",
      "Epoch 00011: saving model to model_init_2020-11-0209_44_08.794195/model-00011-0.70510-0.73605-0.87200-0.72000.h5\n",
      "Epoch 12/30\n",
      "23/23 [==============================] - 55s 2s/step - loss: 0.6716 - categorical_accuracy: 0.7384 - val_loss: 0.7841 - val_categorical_accuracy: 0.7300\n",
      "\n",
      "Epoch 00012: saving model to model_init_2020-11-0209_44_08.794195/model-00012-0.62933-0.75415-0.78411-0.73000.h5\n",
      "\n",
      "Epoch 00012: ReduceLROnPlateau reducing learning rate to 0.0001250000059371814.\n",
      "Epoch 13/30\n",
      "23/23 [==============================] - 55s 2s/step - loss: 0.6031 - categorical_accuracy: 0.7750 - val_loss: 0.6915 - val_categorical_accuracy: 0.7600\n",
      "\n",
      "Epoch 00013: saving model to model_init_2020-11-0209_44_08.794195/model-00013-0.62068-0.76621-0.69152-0.76000.h5\n",
      "Epoch 14/30\n",
      "23/23 [==============================] - 55s 2s/step - loss: 0.5144 - categorical_accuracy: 0.8069 - val_loss: 0.7291 - val_categorical_accuracy: 0.7200\n",
      "\n",
      "Epoch 00014: saving model to model_init_2020-11-0209_44_08.794195/model-00014-0.52269-0.79940-0.72907-0.72000.h5\n",
      "\n",
      "Epoch 00014: ReduceLROnPlateau reducing learning rate to 6.25000029685907e-05.\n",
      "Epoch 15/30\n",
      "23/23 [==============================] - 55s 2s/step - loss: 0.5797 - categorical_accuracy: 0.7703 - val_loss: 0.6881 - val_categorical_accuracy: 0.7500\n",
      "\n",
      "Epoch 00015: saving model to model_init_2020-11-0209_44_08.794195/model-00015-0.56298-0.78733-0.68808-0.75000.h5\n",
      "Epoch 16/30\n",
      "23/23 [==============================] - 55s 2s/step - loss: 0.5833 - categorical_accuracy: 0.7689 - val_loss: 0.7224 - val_categorical_accuracy: 0.7400\n",
      "\n",
      "Epoch 00016: saving model to model_init_2020-11-0209_44_08.794195/model-00016-0.56089-0.78582-0.72242-0.74000.h5\n",
      "\n",
      "Epoch 00016: ReduceLROnPlateau reducing learning rate to 3.125000148429535e-05.\n",
      "Epoch 17/30\n",
      "23/23 [==============================] - 55s 2s/step - loss: 0.5541 - categorical_accuracy: 0.7944 - val_loss: 0.6362 - val_categorical_accuracy: 0.7700\n",
      "\n",
      "Epoch 00017: saving model to model_init_2020-11-0209_44_08.794195/model-00017-0.52909-0.79940-0.63617-0.77000.h5\n",
      "Epoch 18/30\n",
      "23/23 [==============================] - 55s 2s/step - loss: 0.5503 - categorical_accuracy: 0.8002 - val_loss: 0.5759 - val_categorical_accuracy: 0.7800\n",
      "\n",
      "Epoch 00018: saving model to model_init_2020-11-0209_44_08.794195/model-00018-0.54801-0.80543-0.57586-0.78000.h5\n",
      "Epoch 19/30\n",
      "23/23 [==============================] - 55s 2s/step - loss: 0.5366 - categorical_accuracy: 0.7924 - val_loss: 0.5757 - val_categorical_accuracy: 0.7900\n",
      "\n",
      "Epoch 00019: saving model to model_init_2020-11-0209_44_08.794195/model-00019-0.55358-0.78431-0.57566-0.79000.h5\n",
      "Epoch 20/30\n",
      "23/23 [==============================] - 56s 2s/step - loss: 0.5152 - categorical_accuracy: 0.8046 - val_loss: 0.6069 - val_categorical_accuracy: 0.7900\n",
      "\n",
      "Epoch 00020: saving model to model_init_2020-11-0209_44_08.794195/model-00020-0.50694-0.80995-0.60689-0.79000.h5\n",
      "Epoch 21/30\n",
      "23/23 [==============================] - 55s 2s/step - loss: 0.5348 - categorical_accuracy: 0.7799 - val_loss: 0.5763 - val_categorical_accuracy: 0.8300\n",
      "\n",
      "Epoch 00021: saving model to model_init_2020-11-0209_44_08.794195/model-00021-0.53046-0.78431-0.57630-0.83000.h5\n",
      "\n",
      "Epoch 00021: ReduceLROnPlateau reducing learning rate to 1.5625000742147677e-05.\n",
      "Epoch 22/30\n",
      "23/23 [==============================] - 55s 2s/step - loss: 0.5928 - categorical_accuracy: 0.7901 - val_loss: 0.5695 - val_categorical_accuracy: 0.8000\n",
      "\n",
      "Epoch 00022: saving model to model_init_2020-11-0209_44_08.794195/model-00022-0.56019-0.79487-0.56947-0.80000.h5\n",
      "Epoch 23/30\n",
      "23/23 [==============================] - 55s 2s/step - loss: 0.5313 - categorical_accuracy: 0.7930 - val_loss: 0.5732 - val_categorical_accuracy: 0.8000\n",
      "\n",
      "Epoch 00023: saving model to model_init_2020-11-0209_44_08.794195/model-00023-0.51405-0.79789-0.57316-0.80000.h5\n",
      "Epoch 24/30\n",
      "23/23 [==============================] - 55s 2s/step - loss: 0.5754 - categorical_accuracy: 0.7814 - val_loss: 0.5917 - val_categorical_accuracy: 0.7900\n",
      "\n",
      "Epoch 00024: saving model to model_init_2020-11-0209_44_08.794195/model-00024-0.54028-0.78582-0.59166-0.79000.h5\n",
      "\n",
      "Epoch 00024: ReduceLROnPlateau reducing learning rate to 1e-05.\n",
      "Epoch 25/30\n",
      "23/23 [==============================] - 55s 2s/step - loss: 0.5735 - categorical_accuracy: 0.7668 - val_loss: 0.5892 - val_categorical_accuracy: 0.7900\n",
      "\n",
      "Epoch 00025: saving model to model_init_2020-11-0209_44_08.794195/model-00025-0.55610-0.77074-0.58920-0.79000.h5\n",
      "Epoch 26/30\n",
      "23/23 [==============================] - 56s 2s/step - loss: 0.4500 - categorical_accuracy: 0.8360 - val_loss: 0.5846 - val_categorical_accuracy: 0.7900\n",
      "\n",
      "Epoch 00026: saving model to model_init_2020-11-0209_44_08.794195/model-00026-0.46538-0.82956-0.58457-0.79000.h5\n",
      "Epoch 27/30\n",
      "23/23 [==============================] - 55s 2s/step - loss: 0.5762 - categorical_accuracy: 0.7895 - val_loss: 0.5773 - val_categorical_accuracy: 0.7800\n",
      "\n",
      "Epoch 00027: saving model to model_init_2020-11-0209_44_08.794195/model-00027-0.59068-0.78130-0.57731-0.78000.h5\n",
      "Epoch 28/30\n",
      "23/23 [==============================] - 55s 2s/step - loss: 0.4879 - categorical_accuracy: 0.8084 - val_loss: 0.5729 - val_categorical_accuracy: 0.8000\n",
      "\n",
      "Epoch 00028: saving model to model_init_2020-11-0209_44_08.794195/model-00028-0.50517-0.80090-0.57286-0.80000.h5\n",
      "Epoch 29/30\n",
      "23/23 [==============================] - 55s 2s/step - loss: 0.5440 - categorical_accuracy: 0.7982 - val_loss: 0.5700 - val_categorical_accuracy: 0.8000\n",
      "\n",
      "Epoch 00029: saving model to model_init_2020-11-0209_44_08.794195/model-00029-0.55278-0.79035-0.56997-0.80000.h5\n",
      "Epoch 30/30\n",
      "23/23 [==============================] - 55s 2s/step - loss: 0.5027 - categorical_accuracy: 0.7968 - val_loss: 0.5662 - val_categorical_accuracy: 0.8100\n",
      "\n",
      "Epoch 00030: saving model to model_init_2020-11-0209_44_08.794195/model-00030-0.51717-0.78884-0.56618-0.81000.h5\n"
     ]
    },
    {
     "data": {
      "text/plain": [
       "<keras.callbacks.History at 0x7fbdd79a5f60>"
      ]
     },
     "execution_count": 12,
     "metadata": {},
     "output_type": "execute_result"
    }
   ],
   "source": [
    "model.fit_generator(train_generator, steps_per_epoch=steps_per_epoch, epochs=num_epochs, verbose=1, \n",
    "                    callbacks=callbacks_list, validation_data=val_generator, \n",
    "                    validation_steps=validation_steps, class_weight=None, workers=1, initial_epoch=0)"
   ]
  },
  {
   "cell_type": "code",
   "execution_count": null,
   "metadata": {},
   "outputs": [],
   "source": []
  }
 ],
 "metadata": {
  "kernelspec": {
   "display_name": "Python 3",
   "language": "python",
   "name": "python3"
  },
  "language_info": {
   "codemirror_mode": {
    "name": "ipython",
    "version": 3
   },
   "file_extension": ".py",
   "mimetype": "text/x-python",
   "name": "python",
   "nbconvert_exporter": "python",
   "pygments_lexer": "ipython3",
   "version": "3.8.3"
  }
 },
 "nbformat": 4,
 "nbformat_minor": 2
}
